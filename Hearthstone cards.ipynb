{
 "cells": [
  {
   "cell_type": "markdown",
   "metadata": {},
   "source": [
    "<img src=\"data/ml_theme.png\">\n",
    "## <center> Майнор \"Интеллектуальный анализ данных\"  </center>\n",
    "#### <center>Курс \"Введение в анализ данных\" </center>\n",
    "<img src=\"data/faculty_logo.jpg\" height=\"240\" width=\"240\">\n",
    "### <center> Автор материала: Кирилл Куприянов </center>"
   ]
  },
  {
   "cell_type": "markdown",
   "metadata": {},
   "source": [
    "## <center> Индивидуальный проект по анализу данных </center>"
   ]
  },
  {
   "cell_type": "markdown",
   "metadata": {},
   "source": [
    "**План исследования**\n",
    " - Описание набора данных и признаков\n",
    " - Первичный анализ признаков\n",
    " - Первичный визуальный анализ признаков\n",
    " - Закономерности, \"инсайты\", особенности данных\n",
    " - Предобработка данных\n",
    " - Построение признаков\n",
    " - Отбор признаков\n",
    " - Построение модели\n",
    " - Кросс-валидация, подбор параметров\n",
    " - Кривые валидации и обучения\n",
    " - Прогноз для тестовой (или отложенной) выборки\n",
    " - Оценка модели с описанием выбранной метрики\n",
    " - Выводы"
   ]
  },
  {
   "cell_type": "code",
   "execution_count": 1,
   "metadata": {
    "collapsed": false
   },
   "outputs": [
    {
     "name": "stdout",
     "output_type": "stream",
     "text": [
      "Populating the interactive namespace from numpy and matplotlib\n"
     ]
    }
   ],
   "source": [
    "from __future__ import division, print_function\n",
    "# отключим всякие предупреждения Anaconda\n",
    "import warnings\n",
    "warnings.filterwarnings('ignore')\n",
    "import numpy as np\n",
    "import pandas as pd\n",
    "import seaborn as sns\n",
    "sns.set(style=\"whitegrid\")\n",
    "%pylab inline"
   ]
  },
  {
   "cell_type": "code",
   "execution_count": 2,
   "metadata": {
    "collapsed": false
   },
   "outputs": [
    {
     "name": "stdout",
     "output_type": "stream",
     "text": [
      "(2521, 22)\n"
     ]
    },
    {
     "data": {
      "text/html": [
       "<div>\n",
       "<table border=\"1\" class=\"dataframe\">\n",
       "  <thead>\n",
       "    <tr style=\"text-align: right;\">\n",
       "      <th></th>\n",
       "      <th>id</th>\n",
       "      <th>player_class</th>\n",
       "      <th>type</th>\n",
       "      <th>name</th>\n",
       "      <th>set</th>\n",
       "      <th>text</th>\n",
       "      <th>cost</th>\n",
       "      <th>attack</th>\n",
       "      <th>health</th>\n",
       "      <th>rarity</th>\n",
       "      <th>...</th>\n",
       "      <th>mechanics</th>\n",
       "      <th>dust</th>\n",
       "      <th>play_requirements</th>\n",
       "      <th>race</th>\n",
       "      <th>how_to_earn</th>\n",
       "      <th>how_to_earn_golden</th>\n",
       "      <th>targeting_arrow_text</th>\n",
       "      <th>faction</th>\n",
       "      <th>durability</th>\n",
       "      <th>entourage</th>\n",
       "    </tr>\n",
       "  </thead>\n",
       "  <tbody>\n",
       "    <tr>\n",
       "      <th>0</th>\n",
       "      <td>KARA_13_23</td>\n",
       "      <td>NEUTRAL</td>\n",
       "      <td>MINION</td>\n",
       "      <td>Romulo</td>\n",
       "      <td>TB</td>\n",
       "      <td>At the end of your turn, restore 5 health to y...</td>\n",
       "      <td>5.0</td>\n",
       "      <td>3.0</td>\n",
       "      <td>4.0</td>\n",
       "      <td>NaN</td>\n",
       "      <td>...</td>\n",
       "      <td>NaN</td>\n",
       "      <td>NaN</td>\n",
       "      <td>NaN</td>\n",
       "      <td>NaN</td>\n",
       "      <td>NaN</td>\n",
       "      <td>NaN</td>\n",
       "      <td>NaN</td>\n",
       "      <td>NaN</td>\n",
       "      <td>NaN</td>\n",
       "      <td>NaN</td>\n",
       "    </tr>\n",
       "    <tr>\n",
       "      <th>1</th>\n",
       "      <td>LOE_115b</td>\n",
       "      <td>DRUID</td>\n",
       "      <td>SPELL</td>\n",
       "      <td>Raven Idol</td>\n",
       "      <td>LOE</td>\n",
       "      <td>Discover a spell.</td>\n",
       "      <td>0.0</td>\n",
       "      <td>NaN</td>\n",
       "      <td>NaN</td>\n",
       "      <td>COMMON</td>\n",
       "      <td>...</td>\n",
       "      <td>NaN</td>\n",
       "      <td>NaN</td>\n",
       "      <td>NaN</td>\n",
       "      <td>NaN</td>\n",
       "      <td>NaN</td>\n",
       "      <td>NaN</td>\n",
       "      <td>NaN</td>\n",
       "      <td>NaN</td>\n",
       "      <td>NaN</td>\n",
       "      <td>NaN</td>\n",
       "    </tr>\n",
       "    <tr>\n",
       "      <th>2</th>\n",
       "      <td>BRM_033</td>\n",
       "      <td>NEUTRAL</td>\n",
       "      <td>MINION</td>\n",
       "      <td>Blackwing Technician</td>\n",
       "      <td>BRM</td>\n",
       "      <td>Battlecry: If you're holding a Dragon, gain +1...</td>\n",
       "      <td>3.0</td>\n",
       "      <td>2.0</td>\n",
       "      <td>4.0</td>\n",
       "      <td>COMMON</td>\n",
       "      <td>...</td>\n",
       "      <td>['BATTLECRY']</td>\n",
       "      <td>NaN</td>\n",
       "      <td>NaN</td>\n",
       "      <td>NaN</td>\n",
       "      <td>Unlocked in Molten Core, in the Blackrock Moun...</td>\n",
       "      <td>Crafting unlocked in Molten Core, in the Black...</td>\n",
       "      <td>NaN</td>\n",
       "      <td>NaN</td>\n",
       "      <td>NaN</td>\n",
       "      <td>NaN</td>\n",
       "    </tr>\n",
       "    <tr>\n",
       "      <th>3</th>\n",
       "      <td>OG_281</td>\n",
       "      <td>NEUTRAL</td>\n",
       "      <td>MINION</td>\n",
       "      <td>Beckoner of Evil</td>\n",
       "      <td>OG</td>\n",
       "      <td>Battlecry: Give your C'Thun +2/+2 &lt;i&gt;(wherever...</td>\n",
       "      <td>2.0</td>\n",
       "      <td>2.0</td>\n",
       "      <td>3.0</td>\n",
       "      <td>COMMON</td>\n",
       "      <td>...</td>\n",
       "      <td>['BATTLECRY', 'RITUAL']</td>\n",
       "      <td>[40, 400, 5, 50]</td>\n",
       "      <td>NaN</td>\n",
       "      <td>NaN</td>\n",
       "      <td>Unlocked when opening a Whispers of the Old Go...</td>\n",
       "      <td>Crafting unlocked after opening a Whispers of ...</td>\n",
       "      <td>NaN</td>\n",
       "      <td>NaN</td>\n",
       "      <td>NaN</td>\n",
       "      <td>NaN</td>\n",
       "    </tr>\n",
       "    <tr>\n",
       "      <th>4</th>\n",
       "      <td>OG_048</td>\n",
       "      <td>DRUID</td>\n",
       "      <td>SPELL</td>\n",
       "      <td>Mark of Y'Shaarj</td>\n",
       "      <td>OG</td>\n",
       "      <td>Give a minion +2/+2.\\nIf it's a Beast, draw\\na...</td>\n",
       "      <td>2.0</td>\n",
       "      <td>NaN</td>\n",
       "      <td>NaN</td>\n",
       "      <td>COMMON</td>\n",
       "      <td>...</td>\n",
       "      <td>NaN</td>\n",
       "      <td>[40, 400, 5, 50]</td>\n",
       "      <td>{'REQ_TARGET_TO_PLAY': 0, 'REQ_MINION_TARGET': 0}</td>\n",
       "      <td>NaN</td>\n",
       "      <td>NaN</td>\n",
       "      <td>NaN</td>\n",
       "      <td>NaN</td>\n",
       "      <td>NaN</td>\n",
       "      <td>NaN</td>\n",
       "      <td>NaN</td>\n",
       "    </tr>\n",
       "  </tbody>\n",
       "</table>\n",
       "<p>5 rows × 22 columns</p>\n",
       "</div>"
      ],
      "text/plain": [
       "           id player_class    type                  name  set  \\\n",
       "0  KARA_13_23      NEUTRAL  MINION                Romulo   TB   \n",
       "1    LOE_115b        DRUID   SPELL            Raven Idol  LOE   \n",
       "2     BRM_033      NEUTRAL  MINION  Blackwing Technician  BRM   \n",
       "3      OG_281      NEUTRAL  MINION      Beckoner of Evil   OG   \n",
       "4      OG_048        DRUID   SPELL      Mark of Y'Shaarj   OG   \n",
       "\n",
       "                                                text  cost  attack  health  \\\n",
       "0  At the end of your turn, restore 5 health to y...   5.0     3.0     4.0   \n",
       "1                                  Discover a spell.   0.0     NaN     NaN   \n",
       "2  Battlecry: If you're holding a Dragon, gain +1...   3.0     2.0     4.0   \n",
       "3  Battlecry: Give your C'Thun +2/+2 <i>(wherever...   2.0     2.0     3.0   \n",
       "4  Give a minion +2/+2.\\nIf it's a Beast, draw\\na...   2.0     NaN     NaN   \n",
       "\n",
       "   rarity    ...                   mechanics              dust  \\\n",
       "0     NaN    ...                         NaN               NaN   \n",
       "1  COMMON    ...                         NaN               NaN   \n",
       "2  COMMON    ...               ['BATTLECRY']               NaN   \n",
       "3  COMMON    ...     ['BATTLECRY', 'RITUAL']  [40, 400, 5, 50]   \n",
       "4  COMMON    ...                         NaN  [40, 400, 5, 50]   \n",
       "\n",
       "                                   play_requirements race  \\\n",
       "0                                                NaN  NaN   \n",
       "1                                                NaN  NaN   \n",
       "2                                                NaN  NaN   \n",
       "3                                                NaN  NaN   \n",
       "4  {'REQ_TARGET_TO_PLAY': 0, 'REQ_MINION_TARGET': 0}  NaN   \n",
       "\n",
       "                                         how_to_earn  \\\n",
       "0                                                NaN   \n",
       "1                                                NaN   \n",
       "2  Unlocked in Molten Core, in the Blackrock Moun...   \n",
       "3  Unlocked when opening a Whispers of the Old Go...   \n",
       "4                                                NaN   \n",
       "\n",
       "                                  how_to_earn_golden targeting_arrow_text  \\\n",
       "0                                                NaN                  NaN   \n",
       "1                                                NaN                  NaN   \n",
       "2  Crafting unlocked in Molten Core, in the Black...                  NaN   \n",
       "3  Crafting unlocked after opening a Whispers of ...                  NaN   \n",
       "4                                                NaN                  NaN   \n",
       "\n",
       "  faction durability entourage  \n",
       "0     NaN        NaN       NaN  \n",
       "1     NaN        NaN       NaN  \n",
       "2     NaN        NaN       NaN  \n",
       "3     NaN        NaN       NaN  \n",
       "4     NaN        NaN       NaN  \n",
       "\n",
       "[5 rows x 22 columns]"
      ]
     },
     "execution_count": 2,
     "metadata": {},
     "output_type": "execute_result"
    }
   ],
   "source": [
    "cards = pd.read_csv('data/cards_flat.csv', encoding='iso-8859-1')\n",
    "print(cards.shape)\n",
    "cards.head()"
   ]
  },
  {
   "cell_type": "markdown",
   "metadata": {},
   "source": [
    "###  Часть 1. Описание набора данных и признаков"
   ]
  },
  {
   "cell_type": "markdown",
   "metadata": {
    "collapsed": true
   },
   "source": [
    "Это данные всех карт из игры \"Hearthstone: Heroes of Warcraft\". \n",
    "\n",
    "Признаки:\n",
    "\n",
    "id - Уникальный id карты\n",
    "\n",
    "player_class - Класс героя, которому доступна эта карта. NEUTRAL - карта общего типа, доступна всем героям\n",
    "\n",
    "type - Тип. Существо/Заклинание/Оружие\n",
    "\n",
    "name - Наименование карты\n",
    "\n",
    "set - Набор откуда можно получить карту (Нужно будет отфильтровать)\n",
    "\n",
    "text - Текст на карте (Нам будет важно есть-нет)\n",
    "\n",
    "cost - Мана-стоимость\n",
    "\n",
    "attack - Кол-во аттаки\n",
    "\n",
    "health - Кол-во здоровья\n",
    "\n",
    "rarity - Редкость карты\n",
    "\n",
    "collectible - Можно ли ее держать в коллекции\n",
    "\n",
    "flavor - НЕВАЖНЫЙ ПРИЗНАК - Описание карты\n",
    "\n",
    "mechanics - Механика карты\n",
    "\n",
    "dust - НЕВАЖНЫЙ ПРИЗНАК - Сколько стоит купить и сколько иожно получить за распыление карты. Указано 4 цифры: 1-Купить карту, 2-Купить \n",
    "золотую карты, 3-Распылить карту, 4-Распылить золотую карту\n",
    "\n",
    "play_requirements - НЕВАЖНЫЙ ПРИЗНАК - Особые условия (например, играть можно только когда в руке дракон)\n",
    "\n",
    "race - НЕВАЖНЫЙ ПРИЗНАК - Расса карты (например, дракон или пират)\n",
    "\n",
    "how_to_earn\t- НЕВАЖНЫЙ ПРИЗНАК - Как получить карту\n",
    "\n",
    "how_to_earn_golden - НЕВАЖНЫЙ ПРИЗНАК - Как получить золотую\n",
    "\n",
    "targeting_arrow_text - НЕВАЖНЫЙ ПРИЗНАК - Текст на указателе при наведении карты на цель\n",
    "\n",
    "faction - НЕВАЖНЫЙ ПРИЗНАК - Фракция (Орда/Альянс)\n",
    "\n",
    "durability - НЕВАЖНЫЙ ПРИЗНАК - Продолжительность (для оружия)\n",
    "\n",
    "entourage - НЕВАЖНЫЙ ПРИЗНАК (для несуществующих карт)"
   ]
  },
  {
   "cell_type": "markdown",
   "metadata": {},
   "source": [
    "## Подготовка DataFrame"
   ]
  },
  {
   "cell_type": "markdown",
   "metadata": {},
   "source": [
    "Удалим неважные признаки"
   ]
  },
  {
   "cell_type": "code",
   "execution_count": 3,
   "metadata": {
    "collapsed": false
   },
   "outputs": [
    {
     "data": {
      "text/html": [
       "<div>\n",
       "<table border=\"1\" class=\"dataframe\">\n",
       "  <thead>\n",
       "    <tr style=\"text-align: right;\">\n",
       "      <th></th>\n",
       "      <th>id</th>\n",
       "      <th>player_class</th>\n",
       "      <th>type</th>\n",
       "      <th>name</th>\n",
       "      <th>set</th>\n",
       "      <th>text</th>\n",
       "      <th>cost</th>\n",
       "      <th>attack</th>\n",
       "      <th>health</th>\n",
       "      <th>rarity</th>\n",
       "      <th>collectible</th>\n",
       "      <th>mechanics</th>\n",
       "    </tr>\n",
       "  </thead>\n",
       "  <tbody>\n",
       "    <tr>\n",
       "      <th>0</th>\n",
       "      <td>KARA_13_23</td>\n",
       "      <td>NEUTRAL</td>\n",
       "      <td>MINION</td>\n",
       "      <td>Romulo</td>\n",
       "      <td>TB</td>\n",
       "      <td>At the end of your turn, restore 5 health to y...</td>\n",
       "      <td>5.0</td>\n",
       "      <td>3.0</td>\n",
       "      <td>4.0</td>\n",
       "      <td>NaN</td>\n",
       "      <td>NaN</td>\n",
       "      <td>NaN</td>\n",
       "    </tr>\n",
       "    <tr>\n",
       "      <th>1</th>\n",
       "      <td>LOE_115b</td>\n",
       "      <td>DRUID</td>\n",
       "      <td>SPELL</td>\n",
       "      <td>Raven Idol</td>\n",
       "      <td>LOE</td>\n",
       "      <td>Discover a spell.</td>\n",
       "      <td>0.0</td>\n",
       "      <td>NaN</td>\n",
       "      <td>NaN</td>\n",
       "      <td>COMMON</td>\n",
       "      <td>NaN</td>\n",
       "      <td>NaN</td>\n",
       "    </tr>\n",
       "    <tr>\n",
       "      <th>2</th>\n",
       "      <td>BRM_033</td>\n",
       "      <td>NEUTRAL</td>\n",
       "      <td>MINION</td>\n",
       "      <td>Blackwing Technician</td>\n",
       "      <td>BRM</td>\n",
       "      <td>Battlecry: If you're holding a Dragon, gain +1...</td>\n",
       "      <td>3.0</td>\n",
       "      <td>2.0</td>\n",
       "      <td>4.0</td>\n",
       "      <td>COMMON</td>\n",
       "      <td>True</td>\n",
       "      <td>['BATTLECRY']</td>\n",
       "    </tr>\n",
       "    <tr>\n",
       "      <th>3</th>\n",
       "      <td>OG_281</td>\n",
       "      <td>NEUTRAL</td>\n",
       "      <td>MINION</td>\n",
       "      <td>Beckoner of Evil</td>\n",
       "      <td>OG</td>\n",
       "      <td>Battlecry: Give your C'Thun +2/+2 &lt;i&gt;(wherever...</td>\n",
       "      <td>2.0</td>\n",
       "      <td>2.0</td>\n",
       "      <td>3.0</td>\n",
       "      <td>COMMON</td>\n",
       "      <td>True</td>\n",
       "      <td>['BATTLECRY', 'RITUAL']</td>\n",
       "    </tr>\n",
       "    <tr>\n",
       "      <th>4</th>\n",
       "      <td>OG_048</td>\n",
       "      <td>DRUID</td>\n",
       "      <td>SPELL</td>\n",
       "      <td>Mark of Y'Shaarj</td>\n",
       "      <td>OG</td>\n",
       "      <td>Give a minion +2/+2.\\nIf it's a Beast, draw\\na...</td>\n",
       "      <td>2.0</td>\n",
       "      <td>NaN</td>\n",
       "      <td>NaN</td>\n",
       "      <td>COMMON</td>\n",
       "      <td>True</td>\n",
       "      <td>NaN</td>\n",
       "    </tr>\n",
       "  </tbody>\n",
       "</table>\n",
       "</div>"
      ],
      "text/plain": [
       "           id player_class    type                  name  set  \\\n",
       "0  KARA_13_23      NEUTRAL  MINION                Romulo   TB   \n",
       "1    LOE_115b        DRUID   SPELL            Raven Idol  LOE   \n",
       "2     BRM_033      NEUTRAL  MINION  Blackwing Technician  BRM   \n",
       "3      OG_281      NEUTRAL  MINION      Beckoner of Evil   OG   \n",
       "4      OG_048        DRUID   SPELL      Mark of Y'Shaarj   OG   \n",
       "\n",
       "                                                text  cost  attack  health  \\\n",
       "0  At the end of your turn, restore 5 health to y...   5.0     3.0     4.0   \n",
       "1                                  Discover a spell.   0.0     NaN     NaN   \n",
       "2  Battlecry: If you're holding a Dragon, gain +1...   3.0     2.0     4.0   \n",
       "3  Battlecry: Give your C'Thun +2/+2 <i>(wherever...   2.0     2.0     3.0   \n",
       "4  Give a minion +2/+2.\\nIf it's a Beast, draw\\na...   2.0     NaN     NaN   \n",
       "\n",
       "   rarity collectible                mechanics  \n",
       "0     NaN         NaN                      NaN  \n",
       "1  COMMON         NaN                      NaN  \n",
       "2  COMMON        True            ['BATTLECRY']  \n",
       "3  COMMON        True  ['BATTLECRY', 'RITUAL']  \n",
       "4  COMMON        True                      NaN  "
      ]
     },
     "execution_count": 3,
     "metadata": {},
     "output_type": "execute_result"
    }
   ],
   "source": [
    "cards = cards.drop(['flavor', 'play_requirements', 'race', 'how_to_earn', 'how_to_earn_golden', \n",
    "                    'targeting_arrow_text', 'faction', 'durability', 'entourage', 'dust'], 1)\n",
    "cards.head()"
   ]
  },
  {
   "cell_type": "markdown",
   "metadata": {},
   "source": [
    "Теперь удалим неинтересующие нас карты. Это те карты, которые не пояляются в обычной игре, только  при особых событиях и в особых режимах игры."
   ]
  },
  {
   "cell_type": "code",
   "execution_count": 4,
   "metadata": {
    "collapsed": false
   },
   "outputs": [
    {
     "data": {
      "text/plain": [
       "array(['TB', 'LOE', 'BRM', 'OG', 'CREDITS', 'MISSIONS', 'EXPERT1', 'KARA',\n",
       "       'CHEAT', 'TGT', 'CORE', 'HERO_SKINS', 'NAXX', 'GVG', 'NONE',\n",
       "       'PROMO', 'KARA_RESERVE', 'REWARD'], dtype=object)"
      ]
     },
     "execution_count": 4,
     "metadata": {},
     "output_type": "execute_result"
    }
   ],
   "source": [
    "# Найдем уникальные значения set, чтобы понять, какие удалить.\n",
    "cards['set'].unique()"
   ]
  },
  {
   "cell_type": "markdown",
   "metadata": {},
   "source": [
    "Удалим карты из TB(Tavern Brawl), Credits, Missions, Cheat, Hero Skins, None, Promo, Kara_Reserve"
   ]
  },
  {
   "cell_type": "code",
   "execution_count": 5,
   "metadata": {
    "collapsed": false
   },
   "outputs": [
    {
     "data": {
      "text/html": [
       "<div>\n",
       "<table border=\"1\" class=\"dataframe\">\n",
       "  <thead>\n",
       "    <tr style=\"text-align: right;\">\n",
       "      <th></th>\n",
       "      <th>id</th>\n",
       "      <th>player_class</th>\n",
       "      <th>type</th>\n",
       "      <th>name</th>\n",
       "      <th>set</th>\n",
       "      <th>text</th>\n",
       "      <th>cost</th>\n",
       "      <th>attack</th>\n",
       "      <th>health</th>\n",
       "      <th>rarity</th>\n",
       "      <th>collectible</th>\n",
       "      <th>mechanics</th>\n",
       "    </tr>\n",
       "  </thead>\n",
       "  <tbody>\n",
       "    <tr>\n",
       "      <th>1</th>\n",
       "      <td>LOE_115b</td>\n",
       "      <td>DRUID</td>\n",
       "      <td>SPELL</td>\n",
       "      <td>Raven Idol</td>\n",
       "      <td>LOE</td>\n",
       "      <td>Discover a spell.</td>\n",
       "      <td>0.0</td>\n",
       "      <td>NaN</td>\n",
       "      <td>NaN</td>\n",
       "      <td>COMMON</td>\n",
       "      <td>NaN</td>\n",
       "      <td>NaN</td>\n",
       "    </tr>\n",
       "    <tr>\n",
       "      <th>2</th>\n",
       "      <td>BRM_033</td>\n",
       "      <td>NEUTRAL</td>\n",
       "      <td>MINION</td>\n",
       "      <td>Blackwing Technician</td>\n",
       "      <td>BRM</td>\n",
       "      <td>Battlecry: If you're holding a Dragon, gain +1...</td>\n",
       "      <td>3.0</td>\n",
       "      <td>2.0</td>\n",
       "      <td>4.0</td>\n",
       "      <td>COMMON</td>\n",
       "      <td>True</td>\n",
       "      <td>['BATTLECRY']</td>\n",
       "    </tr>\n",
       "    <tr>\n",
       "      <th>3</th>\n",
       "      <td>OG_281</td>\n",
       "      <td>NEUTRAL</td>\n",
       "      <td>MINION</td>\n",
       "      <td>Beckoner of Evil</td>\n",
       "      <td>OG</td>\n",
       "      <td>Battlecry: Give your C'Thun +2/+2 &lt;i&gt;(wherever...</td>\n",
       "      <td>2.0</td>\n",
       "      <td>2.0</td>\n",
       "      <td>3.0</td>\n",
       "      <td>COMMON</td>\n",
       "      <td>True</td>\n",
       "      <td>['BATTLECRY', 'RITUAL']</td>\n",
       "    </tr>\n",
       "    <tr>\n",
       "      <th>4</th>\n",
       "      <td>OG_048</td>\n",
       "      <td>DRUID</td>\n",
       "      <td>SPELL</td>\n",
       "      <td>Mark of Y'Shaarj</td>\n",
       "      <td>OG</td>\n",
       "      <td>Give a minion +2/+2.\\nIf it's a Beast, draw\\na...</td>\n",
       "      <td>2.0</td>\n",
       "      <td>NaN</td>\n",
       "      <td>NaN</td>\n",
       "      <td>COMMON</td>\n",
       "      <td>True</td>\n",
       "      <td>NaN</td>\n",
       "    </tr>\n",
       "    <tr>\n",
       "      <th>5</th>\n",
       "      <td>OG_314b</td>\n",
       "      <td>WARRIOR</td>\n",
       "      <td>MINION</td>\n",
       "      <td>Slime</td>\n",
       "      <td>OG</td>\n",
       "      <td>NaN</td>\n",
       "      <td>2.0</td>\n",
       "      <td>2.0</td>\n",
       "      <td>2.0</td>\n",
       "      <td>NaN</td>\n",
       "      <td>NaN</td>\n",
       "      <td>NaN</td>\n",
       "    </tr>\n",
       "  </tbody>\n",
       "</table>\n",
       "</div>"
      ],
      "text/plain": [
       "         id player_class    type                  name  set  \\\n",
       "1  LOE_115b        DRUID   SPELL            Raven Idol  LOE   \n",
       "2   BRM_033      NEUTRAL  MINION  Blackwing Technician  BRM   \n",
       "3    OG_281      NEUTRAL  MINION      Beckoner of Evil   OG   \n",
       "4    OG_048        DRUID   SPELL      Mark of Y'Shaarj   OG   \n",
       "5   OG_314b      WARRIOR  MINION                 Slime   OG   \n",
       "\n",
       "                                                text  cost  attack  health  \\\n",
       "1                                  Discover a spell.   0.0     NaN     NaN   \n",
       "2  Battlecry: If you're holding a Dragon, gain +1...   3.0     2.0     4.0   \n",
       "3  Battlecry: Give your C'Thun +2/+2 <i>(wherever...   2.0     2.0     3.0   \n",
       "4  Give a minion +2/+2.\\nIf it's a Beast, draw\\na...   2.0     NaN     NaN   \n",
       "5                                                NaN   2.0     2.0     2.0   \n",
       "\n",
       "   rarity collectible                mechanics  \n",
       "1  COMMON         NaN                      NaN  \n",
       "2  COMMON        True            ['BATTLECRY']  \n",
       "3  COMMON        True  ['BATTLECRY', 'RITUAL']  \n",
       "4  COMMON        True                      NaN  \n",
       "5     NaN         NaN                      NaN  "
      ]
     },
     "execution_count": 5,
     "metadata": {},
     "output_type": "execute_result"
    }
   ],
   "source": [
    "cards = cards[(cards['set'] != 'TB') & (cards['set'] != 'CREDITS') & \n",
    "              (cards['set'] != 'MISSIONS') & (cards['set'] != 'CHEAT') &\n",
    "             (cards['set'] != 'HERO_SKINS') & (cards['set'] != 'NONE') &\n",
    "             (cards['set'] != 'PROMO') & (cards['set'] != 'KARA_RESERVE')]\n",
    "cards.head()"
   ]
  },
  {
   "cell_type": "code",
   "execution_count": 6,
   "metadata": {
    "collapsed": false
   },
   "outputs": [
    {
     "data": {
      "text/html": [
       "<div>\n",
       "<table border=\"1\" class=\"dataframe\">\n",
       "  <thead>\n",
       "    <tr style=\"text-align: right;\">\n",
       "      <th></th>\n",
       "      <th>id</th>\n",
       "      <th>player_class</th>\n",
       "      <th>type</th>\n",
       "      <th>name</th>\n",
       "      <th>set</th>\n",
       "      <th>text</th>\n",
       "      <th>cost</th>\n",
       "      <th>attack</th>\n",
       "      <th>health</th>\n",
       "      <th>rarity</th>\n",
       "      <th>collectible</th>\n",
       "      <th>mechanics</th>\n",
       "    </tr>\n",
       "  </thead>\n",
       "  <tbody>\n",
       "    <tr>\n",
       "      <th>1</th>\n",
       "      <td>LOE_115b</td>\n",
       "      <td>DRUID</td>\n",
       "      <td>SPELL</td>\n",
       "      <td>Raven Idol</td>\n",
       "      <td>LOE</td>\n",
       "      <td>Discover a spell.</td>\n",
       "      <td>0.0</td>\n",
       "      <td>3.354839</td>\n",
       "      <td>8.048031</td>\n",
       "      <td>COMMON</td>\n",
       "      <td>NaN</td>\n",
       "      <td>NaN</td>\n",
       "    </tr>\n",
       "    <tr>\n",
       "      <th>2</th>\n",
       "      <td>BRM_033</td>\n",
       "      <td>NEUTRAL</td>\n",
       "      <td>MINION</td>\n",
       "      <td>Blackwing Technician</td>\n",
       "      <td>BRM</td>\n",
       "      <td>Battlecry: If you're holding a Dragon, gain +1...</td>\n",
       "      <td>3.0</td>\n",
       "      <td>2.000000</td>\n",
       "      <td>4.000000</td>\n",
       "      <td>COMMON</td>\n",
       "      <td>True</td>\n",
       "      <td>['BATTLECRY']</td>\n",
       "    </tr>\n",
       "    <tr>\n",
       "      <th>3</th>\n",
       "      <td>OG_281</td>\n",
       "      <td>NEUTRAL</td>\n",
       "      <td>MINION</td>\n",
       "      <td>Beckoner of Evil</td>\n",
       "      <td>OG</td>\n",
       "      <td>Battlecry: Give your C'Thun +2/+2 &lt;i&gt;(wherever...</td>\n",
       "      <td>2.0</td>\n",
       "      <td>2.000000</td>\n",
       "      <td>3.000000</td>\n",
       "      <td>COMMON</td>\n",
       "      <td>True</td>\n",
       "      <td>['BATTLECRY', 'RITUAL']</td>\n",
       "    </tr>\n",
       "    <tr>\n",
       "      <th>4</th>\n",
       "      <td>OG_048</td>\n",
       "      <td>DRUID</td>\n",
       "      <td>SPELL</td>\n",
       "      <td>Mark of Y'Shaarj</td>\n",
       "      <td>OG</td>\n",
       "      <td>Give a minion +2/+2.\\nIf it's a Beast, draw\\na...</td>\n",
       "      <td>2.0</td>\n",
       "      <td>3.354839</td>\n",
       "      <td>8.048031</td>\n",
       "      <td>COMMON</td>\n",
       "      <td>True</td>\n",
       "      <td>NaN</td>\n",
       "    </tr>\n",
       "    <tr>\n",
       "      <th>5</th>\n",
       "      <td>OG_314b</td>\n",
       "      <td>WARRIOR</td>\n",
       "      <td>MINION</td>\n",
       "      <td>Slime</td>\n",
       "      <td>OG</td>\n",
       "      <td>NaN</td>\n",
       "      <td>2.0</td>\n",
       "      <td>2.000000</td>\n",
       "      <td>2.000000</td>\n",
       "      <td>NaN</td>\n",
       "      <td>NaN</td>\n",
       "      <td>NaN</td>\n",
       "    </tr>\n",
       "  </tbody>\n",
       "</table>\n",
       "</div>"
      ],
      "text/plain": [
       "         id player_class    type                  name  set  \\\n",
       "1  LOE_115b        DRUID   SPELL            Raven Idol  LOE   \n",
       "2   BRM_033      NEUTRAL  MINION  Blackwing Technician  BRM   \n",
       "3    OG_281      NEUTRAL  MINION      Beckoner of Evil   OG   \n",
       "4    OG_048        DRUID   SPELL      Mark of Y'Shaarj   OG   \n",
       "5   OG_314b      WARRIOR  MINION                 Slime   OG   \n",
       "\n",
       "                                                text  cost    attack  \\\n",
       "1                                  Discover a spell.   0.0  3.354839   \n",
       "2  Battlecry: If you're holding a Dragon, gain +1...   3.0  2.000000   \n",
       "3  Battlecry: Give your C'Thun +2/+2 <i>(wherever...   2.0  2.000000   \n",
       "4  Give a minion +2/+2.\\nIf it's a Beast, draw\\na...   2.0  3.354839   \n",
       "5                                                NaN   2.0  2.000000   \n",
       "\n",
       "     health  rarity collectible                mechanics  \n",
       "1  8.048031  COMMON         NaN                      NaN  \n",
       "2  4.000000  COMMON        True            ['BATTLECRY']  \n",
       "3  3.000000  COMMON        True  ['BATTLECRY', 'RITUAL']  \n",
       "4  8.048031  COMMON        True                      NaN  \n",
       "5  2.000000     NaN         NaN                      NaN  "
      ]
     },
     "execution_count": 6,
     "metadata": {},
     "output_type": "execute_result"
    }
   ],
   "source": [
    "# Среди признаков аттака и здоровье есть na (у заклинаний и оружий). Заполним их медианными значениями.\n",
    "cards_1 = cards.copy()\n",
    "s = np.array([float(x) for x in cards_1['attack'].dropna()])\n",
    "cards_1['attack'].fillna(s.mean(), inplace=True)\n",
    "\n",
    "s = np.array([float(x) for x in cards_1['health'].dropna()])\n",
    "cards_1['health'].fillna(s.mean(), inplace=True)\n",
    "cards_1.head()"
   ]
  },
  {
   "cell_type": "markdown",
   "metadata": {},
   "source": [
    "###  Часть 2. Первичный анализ признаков"
   ]
  },
  {
   "cell_type": "code",
   "execution_count": 7,
   "metadata": {
    "collapsed": false
   },
   "outputs": [
    {
     "name": "stdout",
     "output_type": "stream",
     "text": [
      "(2062, 12)\n"
     ]
    },
    {
     "data": {
      "text/html": [
       "<div>\n",
       "<table border=\"1\" class=\"dataframe\">\n",
       "  <thead>\n",
       "    <tr style=\"text-align: right;\">\n",
       "      <th></th>\n",
       "      <th>count</th>\n",
       "      <th>unique</th>\n",
       "      <th>top</th>\n",
       "      <th>freq</th>\n",
       "      <th>mean</th>\n",
       "      <th>std</th>\n",
       "      <th>min</th>\n",
       "      <th>25%</th>\n",
       "      <th>50%</th>\n",
       "      <th>75%</th>\n",
       "      <th>max</th>\n",
       "    </tr>\n",
       "  </thead>\n",
       "  <tbody>\n",
       "    <tr>\n",
       "      <th>id</th>\n",
       "      <td>2062</td>\n",
       "      <td>2062</td>\n",
       "      <td>NEW1_024o</td>\n",
       "      <td>1</td>\n",
       "      <td>NaN</td>\n",
       "      <td>NaN</td>\n",
       "      <td>NaN</td>\n",
       "      <td>NaN</td>\n",
       "      <td>NaN</td>\n",
       "      <td>NaN</td>\n",
       "      <td>NaN</td>\n",
       "    </tr>\n",
       "    <tr>\n",
       "      <th>player_class</th>\n",
       "      <td>2062</td>\n",
       "      <td>11</td>\n",
       "      <td>NEUTRAL</td>\n",
       "      <td>1194</td>\n",
       "      <td>NaN</td>\n",
       "      <td>NaN</td>\n",
       "      <td>NaN</td>\n",
       "      <td>NaN</td>\n",
       "      <td>NaN</td>\n",
       "      <td>NaN</td>\n",
       "      <td>NaN</td>\n",
       "    </tr>\n",
       "    <tr>\n",
       "      <th>type</th>\n",
       "      <td>2062</td>\n",
       "      <td>6</td>\n",
       "      <td>MINION</td>\n",
       "      <td>897</td>\n",
       "      <td>NaN</td>\n",
       "      <td>NaN</td>\n",
       "      <td>NaN</td>\n",
       "      <td>NaN</td>\n",
       "      <td>NaN</td>\n",
       "      <td>NaN</td>\n",
       "      <td>NaN</td>\n",
       "    </tr>\n",
       "    <tr>\n",
       "      <th>name</th>\n",
       "      <td>2062</td>\n",
       "      <td>1641</td>\n",
       "      <td>Enraged</td>\n",
       "      <td>10</td>\n",
       "      <td>NaN</td>\n",
       "      <td>NaN</td>\n",
       "      <td>NaN</td>\n",
       "      <td>NaN</td>\n",
       "      <td>NaN</td>\n",
       "      <td>NaN</td>\n",
       "      <td>NaN</td>\n",
       "    </tr>\n",
       "    <tr>\n",
       "      <th>set</th>\n",
       "      <td>2062</td>\n",
       "      <td>10</td>\n",
       "      <td>EXPERT1</td>\n",
       "      <td>394</td>\n",
       "      <td>NaN</td>\n",
       "      <td>NaN</td>\n",
       "      <td>NaN</td>\n",
       "      <td>NaN</td>\n",
       "      <td>NaN</td>\n",
       "      <td>NaN</td>\n",
       "      <td>NaN</td>\n",
       "    </tr>\n",
       "    <tr>\n",
       "      <th>text</th>\n",
       "      <td>1755</td>\n",
       "      <td>1372</td>\n",
       "      <td>Taunt</td>\n",
       "      <td>52</td>\n",
       "      <td>NaN</td>\n",
       "      <td>NaN</td>\n",
       "      <td>NaN</td>\n",
       "      <td>NaN</td>\n",
       "      <td>NaN</td>\n",
       "      <td>NaN</td>\n",
       "      <td>NaN</td>\n",
       "    </tr>\n",
       "    <tr>\n",
       "      <th>cost</th>\n",
       "      <td>1561</td>\n",
       "      <td>NaN</td>\n",
       "      <td>NaN</td>\n",
       "      <td>NaN</td>\n",
       "      <td>3.04741</td>\n",
       "      <td>2.43196</td>\n",
       "      <td>0</td>\n",
       "      <td>NaN</td>\n",
       "      <td>NaN</td>\n",
       "      <td>NaN</td>\n",
       "      <td>25</td>\n",
       "    </tr>\n",
       "    <tr>\n",
       "      <th>attack</th>\n",
       "      <td>961</td>\n",
       "      <td>NaN</td>\n",
       "      <td>NaN</td>\n",
       "      <td>NaN</td>\n",
       "      <td>3.35484</td>\n",
       "      <td>2.42899</td>\n",
       "      <td>0</td>\n",
       "      <td>NaN</td>\n",
       "      <td>NaN</td>\n",
       "      <td>NaN</td>\n",
       "      <td>30</td>\n",
       "    </tr>\n",
       "    <tr>\n",
       "      <th>health</th>\n",
       "      <td>1041</td>\n",
       "      <td>NaN</td>\n",
       "      <td>NaN</td>\n",
       "      <td>NaN</td>\n",
       "      <td>8.04803</td>\n",
       "      <td>11.7661</td>\n",
       "      <td>0</td>\n",
       "      <td>NaN</td>\n",
       "      <td>NaN</td>\n",
       "      <td>NaN</td>\n",
       "      <td>100</td>\n",
       "    </tr>\n",
       "    <tr>\n",
       "      <th>rarity</th>\n",
       "      <td>1058</td>\n",
       "      <td>10</td>\n",
       "      <td>COMMON</td>\n",
       "      <td>446</td>\n",
       "      <td>NaN</td>\n",
       "      <td>NaN</td>\n",
       "      <td>NaN</td>\n",
       "      <td>NaN</td>\n",
       "      <td>NaN</td>\n",
       "      <td>NaN</td>\n",
       "      <td>NaN</td>\n",
       "    </tr>\n",
       "    <tr>\n",
       "      <th>collectible</th>\n",
       "      <td>929</td>\n",
       "      <td>5</td>\n",
       "      <td>True</td>\n",
       "      <td>913</td>\n",
       "      <td>NaN</td>\n",
       "      <td>NaN</td>\n",
       "      <td>NaN</td>\n",
       "      <td>NaN</td>\n",
       "      <td>NaN</td>\n",
       "      <td>NaN</td>\n",
       "      <td>NaN</td>\n",
       "    </tr>\n",
       "    <tr>\n",
       "      <th>mechanics</th>\n",
       "      <td>757</td>\n",
       "      <td>78</td>\n",
       "      <td>['BATTLECRY']</td>\n",
       "      <td>215</td>\n",
       "      <td>NaN</td>\n",
       "      <td>NaN</td>\n",
       "      <td>NaN</td>\n",
       "      <td>NaN</td>\n",
       "      <td>NaN</td>\n",
       "      <td>NaN</td>\n",
       "      <td>NaN</td>\n",
       "    </tr>\n",
       "  </tbody>\n",
       "</table>\n",
       "</div>"
      ],
      "text/plain": [
       "             count unique            top  freq     mean      std  min  25%  \\\n",
       "id            2062   2062      NEW1_024o     1      NaN      NaN  NaN  NaN   \n",
       "player_class  2062     11        NEUTRAL  1194      NaN      NaN  NaN  NaN   \n",
       "type          2062      6         MINION   897      NaN      NaN  NaN  NaN   \n",
       "name          2062   1641        Enraged    10      NaN      NaN  NaN  NaN   \n",
       "set           2062     10        EXPERT1   394      NaN      NaN  NaN  NaN   \n",
       "text          1755   1372          Taunt    52      NaN      NaN  NaN  NaN   \n",
       "cost          1561    NaN            NaN   NaN  3.04741  2.43196    0  NaN   \n",
       "attack         961    NaN            NaN   NaN  3.35484  2.42899    0  NaN   \n",
       "health        1041    NaN            NaN   NaN  8.04803  11.7661    0  NaN   \n",
       "rarity        1058     10         COMMON   446      NaN      NaN  NaN  NaN   \n",
       "collectible    929      5           True   913      NaN      NaN  NaN  NaN   \n",
       "mechanics      757     78  ['BATTLECRY']   215      NaN      NaN  NaN  NaN   \n",
       "\n",
       "              50%  75%  max  \n",
       "id            NaN  NaN  NaN  \n",
       "player_class  NaN  NaN  NaN  \n",
       "type          NaN  NaN  NaN  \n",
       "name          NaN  NaN  NaN  \n",
       "set           NaN  NaN  NaN  \n",
       "text          NaN  NaN  NaN  \n",
       "cost          NaN  NaN   25  \n",
       "attack        NaN  NaN   30  \n",
       "health        NaN  NaN  100  \n",
       "rarity        NaN  NaN  NaN  \n",
       "collectible   NaN  NaN  NaN  \n",
       "mechanics     NaN  NaN  NaN  "
      ]
     },
     "execution_count": 7,
     "metadata": {},
     "output_type": "execute_result"
    }
   ],
   "source": [
    "print(cards.shape)\n",
    "cards.describe(include='all').T"
   ]
  },
  {
   "cell_type": "markdown",
   "metadata": {},
   "source": [
    "Рассмотрим некоторые категориальные переменные и их количественные распределения"
   ]
  },
  {
   "cell_type": "code",
   "execution_count": 8,
   "metadata": {
    "collapsed": false
   },
   "outputs": [
    {
     "name": "stdout",
     "output_type": "stream",
     "text": [
      "--------------\n",
      "- player_class -\n",
      "NEUTRAL    1194\n",
      "DRUID       144\n",
      "WARRIOR      98\n",
      "HUNTER       94\n",
      "WARLOCK      93\n",
      "MAGE         89\n",
      "SHAMAN       89\n",
      "PALADIN      88\n",
      "ROGUE        87\n",
      "PRIEST       81\n",
      "DREAM         5\n",
      "Name: player_class, dtype: int64\n",
      "--------------\n",
      "- set -\n",
      "EXPERT1    394\n",
      "LOE        254\n",
      "BRM        221\n",
      "KARA       219\n",
      "OG         217\n",
      "CORE       209\n",
      "TGT        206\n",
      "GVG        180\n",
      "NAXX       160\n",
      "REWARD       2\n",
      "Name: set, dtype: int64\n",
      "--------------\n",
      "- rarity -\n",
      "COMMON       446\n",
      "RARE         233\n",
      "LEGENDARY    161\n",
      "EPIC         126\n",
      "FREE          85\n",
      "4              2\n",
      "2              2\n",
      "5              1\n",
      "1              1\n",
      "8              1\n",
      "Name: rarity, dtype: int64\n"
     ]
    }
   ],
   "source": [
    "vars = ['player_class', 'set', 'rarity']\n",
    "for item in vars:\n",
    "    print('--------------')\n",
    "    print('-',item,'-')\n",
    "    print(cards[item].value_counts())"
   ]
  },
  {
   "cell_type": "markdown",
   "metadata": {},
   "source": [
    "Теперь я разделю карты существ на 2 категории: \"Хорошие\" и \"Плохие\". Хорошие - это когда сумма (аттака + здоровье) $>$ мана-стоимости карты. Иначе - плохие. Затем посмотрю, как наличие доп. эффекта влияет на категорию карты"
   ]
  },
  {
   "cell_type": "code",
   "execution_count": 9,
   "metadata": {
    "collapsed": false,
    "scrolled": true
   },
   "outputs": [],
   "source": [
    "cards_minions = cards[cards['type'] == 'MINION']\n",
    "\n",
    "# Переведем строковые значения во float\n",
    "cards_minions['attack'] = cards_minions['attack'].apply(lambda x : float(x))\n",
    "cards_minions['health'] = cards_minions['health'].apply(lambda x : float(x))\n",
    "cards_minions['cost'] = cards_minions['cost'].apply(lambda x : float(x))\n",
    "\n",
    "cards_minions['stats_sum'] = cards_minions['attack'] + cards_minions['health']\n",
    "cards_minions['good'] = cards_minions['stats_sum'] > cards_minions['cost']"
   ]
  },
  {
   "cell_type": "code",
   "execution_count": 10,
   "metadata": {
    "collapsed": false
   },
   "outputs": [
    {
     "name": "stdout",
     "output_type": "stream",
     "text": [
      "Без эффектов, хорошие: 131 . Без эффектов, плохие: 2\n",
      "С эффектами, хорошие: 725 . С эффектами, плохие: 39\n"
     ]
    }
   ],
   "source": [
    "cards_minions['text'].fillna('NO_EFFECT', inplace=True)\n",
    "no_effect_good = cards_minions[(cards_minions['text'] == 'NO_EFFECT') & (cards_minions['good'] == True)].count()[0]\n",
    "no_effect_bad = cards_minions[(cards_minions['text'] == 'NO_EFFECT') & (cards_minions['good'] == False)].count()[0]\n",
    "print('Без эффектов, хорошие:',no_effect_good, '. Без эффектов, плохие:',no_effect_bad)\n",
    "with_effect_good = cards_minions[(cards_minions['text'] != 'NO_EFFECT') & (cards_minions['good'] == True)].count()[0]\n",
    "with_effect_bad = cards_minions[(cards_minions['text'] != 'NO_EFFECT') & (cards_minions['good'] == False)].count()[0]\n",
    "print('С эффектами, хорошие:',with_effect_good, '. С эффектами, плохие:',with_effect_bad)"
   ]
  },
  {
   "cell_type": "markdown",
   "metadata": {},
   "source": [
    "Видим, что карты без эффектов по статам в основном, хорошие, а карты с эффектами(из-за эффектов), по статам чаще бывают плохими"
   ]
  },
  {
   "cell_type": "markdown",
   "metadata": {},
   "source": [
    "###  Часть 3. Первичный визуальный анализ признаков"
   ]
  },
  {
   "cell_type": "code",
   "execution_count": 11,
   "metadata": {
    "collapsed": false,
    "scrolled": false
   },
   "outputs": [
    {
     "data": {
      "image/png": "[encoded data removed]",
      "text/plain": [
       "<matplotlib.figure.Figure at 0x7efbbc7143c8>"
      ]
     },
     "metadata": {},
     "output_type": "display_data"
    }
   ],
   "source": [
    "s = np.array([float(x) for x in cards_1['cost'].dropna()])\n",
    "cards_1['cost'].fillna(s.mean(), inplace=True)\n",
    "\n",
    "\n",
    "\n",
    "sns.pairplot(data=cards_1[['cost', 'attack', 'health', 'player_class']]);"
   ]
  },
  {
   "cell_type": "markdown",
   "metadata": {},
   "source": [
    "Возьмем карты которые можно собрать в коллекцию и тип которых не герой"
   ]
  },
  {
   "cell_type": "code",
   "execution_count": 12,
   "metadata": {
    "collapsed": true
   },
   "outputs": [],
   "source": [
    "cc = cards_1[(cards_1['collectible']=='True') & (cards_1['type'] != 'HERO')]"
   ]
  },
  {
   "cell_type": "markdown",
   "metadata": {},
   "source": [
    "И посмотрим на распределенияе между существами, заклинаниями и оружием по классам"
   ]
  },
  {
   "cell_type": "code",
   "execution_count": 13,
   "metadata": {
    "collapsed": false
   },
   "outputs": [
    {
     "data": {
      "image/png": "[encoded data removed]",
      "text/plain": [
       "<matplotlib.figure.Figure at 0x7efbba279320>"
      ]
     },
     "metadata": {},
     "output_type": "display_data"
    },
    {
     "data": {
      "image/png": "[encoded data removed]",
      "text/plain": [
       "<matplotlib.figure.Figure at 0x7efbb9f13080>"
      ]
     },
     "metadata": {},
     "output_type": "display_data"
    },
    {
     "data": {
      "image/png": "[encoded data removed]",
      "text/plain": [
       "<matplotlib.figure.Figure at 0x7efbb845a780>"
      ]
     },
     "metadata": {},
     "output_type": "display_data"
    }
   ],
   "source": [
    "plot_data = dict()\n",
    "a = cc.groupby(['player_class','type']).size()\n",
    "for pl_class in set(cc['player_class']):\n",
    "    weapons = a[pl_class]['WEAPON'] if 'WEAPON' in a[pl_class] else 0\n",
    "    spell = a[pl_class]['SPELL'] if 'SPELL' in a[pl_class] else 0\n",
    "    minion = a[pl_class]['MINION'] if 'MINION' in a[pl_class] else 0\n",
    "    if pl_class != 'NEUTRAL' and pl_class!= 'DREAM':\n",
    "        plot_data[pl_class] = (minion, spell, weapons)\n",
    "\n",
    "colors = ['yellowgreen', 'gold', 'lightskyblue', 'lightcoral', \n",
    "          'moccasin', 'darkcyan', 'lightslategrey', 'mediumorchid', 'royalblue']\n",
    "labels = ['PALADIN', 'HUNTER', 'SHAMAN', 'WARRIOR', 'ROGUE', 'PRIEST', 'MAGE', 'DRUID', 'WARLOCK']\n",
    "weapon_labels = ['PALADIN', 'HUNTER', 'SHAMAN', 'WARRIOR', 'ROGUE']\n",
    "minions_count = [plot_data[x][0] for x in labels]\n",
    "spells_count = [plot_data[x][1] for x in labels]\n",
    "weapons_count = [plot_data[x][2] for x in weapon_labels]\n",
    "\n",
    "plt.figure(0)\n",
    "ser_1 = pd.Series(minions_count, index=labels)\n",
    "ser_1.plot(kind='barh', title='MINIONS', color=colors);\n",
    "\n",
    "plt.figure(1)\n",
    "ser_2 = pd.Series(spells_count, index=labels)\n",
    "ser_2.plot(kind='barh', title='SPELLS', color=colors);\n",
    "\n",
    "plt.figure(2)\n",
    "ser_1 = pd.Series(weapons_count, index=weapon_labels)\n",
    "ser_1.plot(kind='barh',  title='WEAPONS', color=colors);"
   ]
  },
  {
   "cell_type": "markdown",
   "metadata": {},
   "source": [
    "###  Часть 4. Закономерности, \"инсайты\", особенности данных"
   ]
  },
  {
   "cell_type": "markdown",
   "metadata": {
    "collapsed": true
   },
   "source": [
    "* Если посмотреть на изначальный shape (2521, 22) и на shape отфильтрованных данных (2062, 12), то можно увидеть, как много удаляется лишней информации и насколько \"сырыми\" были изначальные данные\n",
    "* В In[7], где describe можно заметить следующее: Всего имён 2062, а уникальных - 1641. Это означает, что практически 400 карт имеют одинаковые названия\n",
    "* Когда я подсчитал количественные характеристики некоторых категориальных признаков в In[8], смотря на класс игрока, можно увидеть, что саммым большим количеством карт обладает друид \n",
    "* Смотря там же на признак set, можно заметить следующую закономерность. Напомню, что это - дополнения игры, которые приносили новые карты. Например, LOE принес 254 новых карты. Все дополнения (сеты) (за исключением двух), расположены в порядке убывания их выпуска (как и по количеству). Это означает, что чем новее дополнение, тем больше карт оно приносит\n",
    "* Про \"хорошие\" и \"плохие\" карты. Без эффектов, хорошие: 131. Без эффектов, плохие: 2. С эффектами, хорошие: 725. С эффектами, плохие: 39. Считается (игроками), что карты с эффектами, обычно, \"плохие\" по статам. Как видим, не всегда :)\n",
    "* Отмечу, по графику \"MINIONS\" видно, что первым по количеству существ является чернокнижник. Это объяснимо, поскольку у него есть очень популярный архетип \"zoolock\" (колода, основанная на большом количестве дешевых существ). Но что странно, что на втором месте - разбойник, хотя его колоды в основном основаны на заклинаниях и включают в себя мало существ"
   ]
  },
  {
   "cell_type": "markdown",
   "metadata": {},
   "source": [
    "###  Часть 5. Предобработка данных "
   ]
  },
  {
   "cell_type": "code",
   "execution_count": null,
   "metadata": {
    "collapsed": true
   },
   "outputs": [],
   "source": []
  },
  {
   "cell_type": "markdown",
   "metadata": {},
   "source": [
    "###  Часть 6. Построение признаков"
   ]
  },
  {
   "cell_type": "code",
   "execution_count": null,
   "metadata": {
    "collapsed": true
   },
   "outputs": [],
   "source": []
  },
  {
   "cell_type": "markdown",
   "metadata": {},
   "source": [
    "###  Часть 7. Отбор признаков"
   ]
  },
  {
   "cell_type": "code",
   "execution_count": null,
   "metadata": {
    "collapsed": true
   },
   "outputs": [],
   "source": []
  },
  {
   "cell_type": "markdown",
   "metadata": {},
   "source": [
    "###  Часть 8. Построение модели"
   ]
  },
  {
   "cell_type": "code",
   "execution_count": null,
   "metadata": {
    "collapsed": true
   },
   "outputs": [],
   "source": []
  },
  {
   "cell_type": "markdown",
   "metadata": {},
   "source": [
    "###  Часть 9. Кросс-валидация, подбор параметров"
   ]
  },
  {
   "cell_type": "code",
   "execution_count": null,
   "metadata": {
    "collapsed": true
   },
   "outputs": [],
   "source": []
  },
  {
   "cell_type": "markdown",
   "metadata": {},
   "source": [
    "###  Часть 10. Кривые валидации и обучения"
   ]
  },
  {
   "cell_type": "code",
   "execution_count": null,
   "metadata": {
    "collapsed": true
   },
   "outputs": [],
   "source": []
  },
  {
   "cell_type": "markdown",
   "metadata": {},
   "source": [
    "###  Часть 11. Прогноз для тестовой (или отложенной) выборки"
   ]
  },
  {
   "cell_type": "code",
   "execution_count": null,
   "metadata": {
    "collapsed": true
   },
   "outputs": [],
   "source": []
  },
  {
   "cell_type": "markdown",
   "metadata": {},
   "source": [
    "###  Часть 12. Оценка модели с описанием выбранной метрики"
   ]
  },
  {
   "cell_type": "code",
   "execution_count": null,
   "metadata": {
    "collapsed": true
   },
   "outputs": [],
   "source": []
  },
  {
   "cell_type": "markdown",
   "metadata": {},
   "source": [
    "### Часть 13. Выводы "
   ]
  },
  {
   "cell_type": "code",
   "execution_count": null,
   "metadata": {
    "collapsed": true
   },
   "outputs": [],
   "source": []
  }
 ],
 "metadata": {
  "anaconda-cloud": {},
  "kernelspec": {
   "display_name": "Python [conda root]",
   "language": "python",
   "name": "conda-root-py"
  },
  "language_info": {
   "codemirror_mode": {
    "name": "ipython",
    "version": 3
   },
   "file_extension": ".py",
   "mimetype": "text/x-python",
   "name": "python",
   "nbconvert_exporter": "python",
   "pygments_lexer": "ipython3",
   "version": "3.5.2"
  }
 },
 "nbformat": 4,
 "nbformat_minor": 0
}
